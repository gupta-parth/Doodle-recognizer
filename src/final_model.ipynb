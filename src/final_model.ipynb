{
 "cells": [
  {
   "cell_type": "markdown",
   "metadata": {},
   "source": [
    "# Final doodle recognition model \n",
    "\n",
    "Model will be trained on 100 classes from Google's QuickDraw dataset. The classes from chosen as a random sample from the dataset. "
   ]
  },
  {
   "cell_type": "markdown",
   "metadata": {},
   "source": [
    "## Loading in the classes"
   ]
  },
  {
   "cell_type": "code",
   "execution_count": 21,
   "metadata": {},
   "outputs": [
    {
     "name": "stdout",
     "output_type": "stream",
     "text": [
      "['drums', 'sun', 'laptop', 'dog', 'baseball_bat', 'ladder', 'eyeglasses', 'grapes', 'book', 'dumbbell', 'traffic_light', 'wristwatch', 'wheel', 'shovel', 'bread', 'table', 'tennis_racquet', 'cloud', 'chair', 'headphones', 'face', 'eye', 'airplane', 'snake', 'lollipop', 'guitar', 'pants', 'mushroom', 'star', 'sword', 'clock', 'hot_dog', 'syringe', 'stop_sign', 'mountain', 'smiley_face', 'apple', 'bed', 'shorts', 'broom', 'diving_board', 'flower', 'spider', 'cell_phone', 'car', 'camera', 'tree', 'square', 'moon', 'radio', 'hat', 'pizza', 'axe', 'door', 'tent', 'umbrella', 'line', 'cup', 'fan', 'triangle', 'basketball', 'pillow', 'scissors', 't-shirt', 'tooth', 'alarm_clock', 'paper_clip', 'spoon', 'microphone', 'candle', 'pencil', 'envelope', 'saw', 'frying_pan', 'screwdriver', 'helmet', 'bridge', 'light_bulb', 'ceiling_fan', 'key', 'donut', 'bird', 'circle', 'beard', 'coffee_cup', 'butterfly', 'bench', 'rifle', 'cat', 'sock', 'ice_cream', 'moustache', 'suitcase', 'hammer', 'rainbow', 'knife', 'cookie', 'baseball', 'lightning', 'bicycle']\n"
     ]
    }
   ],
   "source": [
    "f = open(\"../classes.txt\")\n",
    "categories = f.readlines()\n",
    "f.close()\n",
    "categories = [category.replace('\\n', '').replace(' ', '') for category in categories]\n",
    "print(categories)"
   ]
  },
  {
   "cell_type": "markdown",
   "metadata": {},
   "source": [
    "## Downloading dataset\n"
   ]
  },
  {
   "cell_type": "code",
   "execution_count": 24,
   "metadata": {},
   "outputs": [
    {
     "name": "stdout",
     "output_type": "stream",
     "text": [
      "https://storage.googleapis.com/quickdraw_dataset/full/numpy_bitmap/drums.npy\n",
      "https://storage.googleapis.com/quickdraw_dataset/full/numpy_bitmap/sun.npy\n",
      "https://storage.googleapis.com/quickdraw_dataset/full/numpy_bitmap/laptop.npy\n",
      "https://storage.googleapis.com/quickdraw_dataset/full/numpy_bitmap/dog.npy\n",
      "https://storage.googleapis.com/quickdraw_dataset/full/numpy_bitmap/baseball%20bat.npy\n",
      "https://storage.googleapis.com/quickdraw_dataset/full/numpy_bitmap/ladder.npy\n",
      "https://storage.googleapis.com/quickdraw_dataset/full/numpy_bitmap/eyeglasses.npy\n",
      "https://storage.googleapis.com/quickdraw_dataset/full/numpy_bitmap/grapes.npy\n",
      "https://storage.googleapis.com/quickdraw_dataset/full/numpy_bitmap/book.npy\n",
      "https://storage.googleapis.com/quickdraw_dataset/full/numpy_bitmap/dumbbell.npy\n",
      "https://storage.googleapis.com/quickdraw_dataset/full/numpy_bitmap/traffic%20light.npy\n",
      "https://storage.googleapis.com/quickdraw_dataset/full/numpy_bitmap/wristwatch.npy\n",
      "https://storage.googleapis.com/quickdraw_dataset/full/numpy_bitmap/wheel.npy\n",
      "https://storage.googleapis.com/quickdraw_dataset/full/numpy_bitmap/shovel.npy\n",
      "https://storage.googleapis.com/quickdraw_dataset/full/numpy_bitmap/bread.npy\n",
      "https://storage.googleapis.com/quickdraw_dataset/full/numpy_bitmap/table.npy\n",
      "https://storage.googleapis.com/quickdraw_dataset/full/numpy_bitmap/tennis%20racquet.npy\n",
      "https://storage.googleapis.com/quickdraw_dataset/full/numpy_bitmap/cloud.npy\n",
      "https://storage.googleapis.com/quickdraw_dataset/full/numpy_bitmap/chair.npy\n",
      "https://storage.googleapis.com/quickdraw_dataset/full/numpy_bitmap/headphones.npy\n",
      "https://storage.googleapis.com/quickdraw_dataset/full/numpy_bitmap/face.npy\n",
      "https://storage.googleapis.com/quickdraw_dataset/full/numpy_bitmap/eye.npy\n",
      "https://storage.googleapis.com/quickdraw_dataset/full/numpy_bitmap/airplane.npy\n",
      "https://storage.googleapis.com/quickdraw_dataset/full/numpy_bitmap/snake.npy\n",
      "https://storage.googleapis.com/quickdraw_dataset/full/numpy_bitmap/lollipop.npy\n",
      "https://storage.googleapis.com/quickdraw_dataset/full/numpy_bitmap/guitar.npy\n",
      "https://storage.googleapis.com/quickdraw_dataset/full/numpy_bitmap/pants.npy\n",
      "https://storage.googleapis.com/quickdraw_dataset/full/numpy_bitmap/mushroom.npy\n",
      "https://storage.googleapis.com/quickdraw_dataset/full/numpy_bitmap/star.npy\n",
      "https://storage.googleapis.com/quickdraw_dataset/full/numpy_bitmap/sword.npy\n",
      "https://storage.googleapis.com/quickdraw_dataset/full/numpy_bitmap/clock.npy\n",
      "https://storage.googleapis.com/quickdraw_dataset/full/numpy_bitmap/hot%20dog.npy\n",
      "https://storage.googleapis.com/quickdraw_dataset/full/numpy_bitmap/syringe.npy\n",
      "https://storage.googleapis.com/quickdraw_dataset/full/numpy_bitmap/stop%20sign.npy\n",
      "https://storage.googleapis.com/quickdraw_dataset/full/numpy_bitmap/mountain.npy\n",
      "https://storage.googleapis.com/quickdraw_dataset/full/numpy_bitmap/smiley%20face.npy\n",
      "https://storage.googleapis.com/quickdraw_dataset/full/numpy_bitmap/apple.npy\n",
      "https://storage.googleapis.com/quickdraw_dataset/full/numpy_bitmap/bed.npy\n",
      "https://storage.googleapis.com/quickdraw_dataset/full/numpy_bitmap/shorts.npy\n",
      "https://storage.googleapis.com/quickdraw_dataset/full/numpy_bitmap/broom.npy\n",
      "https://storage.googleapis.com/quickdraw_dataset/full/numpy_bitmap/diving%20board.npy\n",
      "https://storage.googleapis.com/quickdraw_dataset/full/numpy_bitmap/flower.npy\n",
      "https://storage.googleapis.com/quickdraw_dataset/full/numpy_bitmap/spider.npy\n",
      "https://storage.googleapis.com/quickdraw_dataset/full/numpy_bitmap/cell%20phone.npy\n",
      "https://storage.googleapis.com/quickdraw_dataset/full/numpy_bitmap/car.npy\n",
      "https://storage.googleapis.com/quickdraw_dataset/full/numpy_bitmap/camera.npy\n",
      "https://storage.googleapis.com/quickdraw_dataset/full/numpy_bitmap/tree.npy\n",
      "https://storage.googleapis.com/quickdraw_dataset/full/numpy_bitmap/square.npy\n",
      "https://storage.googleapis.com/quickdraw_dataset/full/numpy_bitmap/moon.npy\n",
      "https://storage.googleapis.com/quickdraw_dataset/full/numpy_bitmap/radio.npy\n",
      "https://storage.googleapis.com/quickdraw_dataset/full/numpy_bitmap/hat.npy\n",
      "https://storage.googleapis.com/quickdraw_dataset/full/numpy_bitmap/pizza.npy\n",
      "https://storage.googleapis.com/quickdraw_dataset/full/numpy_bitmap/axe.npy\n",
      "https://storage.googleapis.com/quickdraw_dataset/full/numpy_bitmap/door.npy\n",
      "https://storage.googleapis.com/quickdraw_dataset/full/numpy_bitmap/tent.npy\n",
      "https://storage.googleapis.com/quickdraw_dataset/full/numpy_bitmap/umbrella.npy\n",
      "https://storage.googleapis.com/quickdraw_dataset/full/numpy_bitmap/line.npy\n",
      "https://storage.googleapis.com/quickdraw_dataset/full/numpy_bitmap/cup.npy\n",
      "https://storage.googleapis.com/quickdraw_dataset/full/numpy_bitmap/fan.npy\n",
      "https://storage.googleapis.com/quickdraw_dataset/full/numpy_bitmap/triangle.npy\n",
      "https://storage.googleapis.com/quickdraw_dataset/full/numpy_bitmap/basketball.npy\n",
      "https://storage.googleapis.com/quickdraw_dataset/full/numpy_bitmap/pillow.npy\n",
      "https://storage.googleapis.com/quickdraw_dataset/full/numpy_bitmap/scissors.npy\n",
      "https://storage.googleapis.com/quickdraw_dataset/full/numpy_bitmap/t-shirt.npy\n",
      "https://storage.googleapis.com/quickdraw_dataset/full/numpy_bitmap/tooth.npy\n",
      "https://storage.googleapis.com/quickdraw_dataset/full/numpy_bitmap/alarm%20clock.npy\n",
      "https://storage.googleapis.com/quickdraw_dataset/full/numpy_bitmap/paper%20clip.npy\n",
      "https://storage.googleapis.com/quickdraw_dataset/full/numpy_bitmap/spoon.npy\n",
      "https://storage.googleapis.com/quickdraw_dataset/full/numpy_bitmap/microphone.npy\n",
      "https://storage.googleapis.com/quickdraw_dataset/full/numpy_bitmap/candle.npy\n",
      "https://storage.googleapis.com/quickdraw_dataset/full/numpy_bitmap/pencil.npy\n",
      "https://storage.googleapis.com/quickdraw_dataset/full/numpy_bitmap/envelope.npy\n",
      "https://storage.googleapis.com/quickdraw_dataset/full/numpy_bitmap/saw.npy\n",
      "https://storage.googleapis.com/quickdraw_dataset/full/numpy_bitmap/frying%20pan.npy\n",
      "https://storage.googleapis.com/quickdraw_dataset/full/numpy_bitmap/screwdriver.npy\n",
      "https://storage.googleapis.com/quickdraw_dataset/full/numpy_bitmap/helmet.npy\n",
      "https://storage.googleapis.com/quickdraw_dataset/full/numpy_bitmap/bridge.npy\n",
      "https://storage.googleapis.com/quickdraw_dataset/full/numpy_bitmap/light%20bulb.npy\n",
      "https://storage.googleapis.com/quickdraw_dataset/full/numpy_bitmap/ceiling%20fan.npy\n",
      "https://storage.googleapis.com/quickdraw_dataset/full/numpy_bitmap/key.npy\n",
      "https://storage.googleapis.com/quickdraw_dataset/full/numpy_bitmap/donut.npy\n",
      "https://storage.googleapis.com/quickdraw_dataset/full/numpy_bitmap/bird.npy\n",
      "https://storage.googleapis.com/quickdraw_dataset/full/numpy_bitmap/circle.npy\n",
      "https://storage.googleapis.com/quickdraw_dataset/full/numpy_bitmap/beard.npy\n",
      "https://storage.googleapis.com/quickdraw_dataset/full/numpy_bitmap/coffee%20cup.npy\n",
      "https://storage.googleapis.com/quickdraw_dataset/full/numpy_bitmap/butterfly.npy\n",
      "https://storage.googleapis.com/quickdraw_dataset/full/numpy_bitmap/bench.npy\n",
      "https://storage.googleapis.com/quickdraw_dataset/full/numpy_bitmap/rifle.npy\n",
      "https://storage.googleapis.com/quickdraw_dataset/full/numpy_bitmap/cat.npy\n",
      "https://storage.googleapis.com/quickdraw_dataset/full/numpy_bitmap/sock.npy\n",
      "https://storage.googleapis.com/quickdraw_dataset/full/numpy_bitmap/ice%20cream.npy\n",
      "https://storage.googleapis.com/quickdraw_dataset/full/numpy_bitmap/moustache.npy\n",
      "https://storage.googleapis.com/quickdraw_dataset/full/numpy_bitmap/suitcase.npy\n",
      "https://storage.googleapis.com/quickdraw_dataset/full/numpy_bitmap/hammer.npy\n",
      "https://storage.googleapis.com/quickdraw_dataset/full/numpy_bitmap/rainbow.npy\n",
      "https://storage.googleapis.com/quickdraw_dataset/full/numpy_bitmap/knife.npy\n",
      "https://storage.googleapis.com/quickdraw_dataset/full/numpy_bitmap/cookie.npy\n",
      "https://storage.googleapis.com/quickdraw_dataset/full/numpy_bitmap/baseball.npy\n",
      "https://storage.googleapis.com/quickdraw_dataset/full/numpy_bitmap/lightning.npy\n",
      "https://storage.googleapis.com/quickdraw_dataset/full/numpy_bitmap/bicycle.npy\n"
     ]
    }
   ],
   "source": [
    "import urllib.request\n",
    "!mkdir data\n",
    "def download_data():\n",
    "    url = 'https://storage.googleapis.com/quickdraw_dataset/full/numpy_bitmap/'\n",
    "    for category in categories:\n",
    "        label_name = category.replace('_', '%20')\n",
    "        path = url + label_name + '.npy'\n",
    "        print(path)\n",
    "        urllib.request.urlretrieve(path, 'data/'+category+'.npy')\n",
    "\n",
    "download_data()\n"
   ]
  },
  {
   "cell_type": "markdown",
   "metadata": {},
   "source": [
    "### Load data\n",
    "\n",
    "Using 4000 images per class as training takes a long time on this local computer (around 7 mins per epoch)"
   ]
  },
  {
   "cell_type": "code",
   "execution_count": 25,
   "metadata": {},
   "outputs": [],
   "source": [
    "import os\n",
    "import glob \n",
    "import numpy as np"
   ]
  },
  {
   "cell_type": "code",
   "execution_count": 36,
   "metadata": {},
   "outputs": [],
   "source": [
    "def load_data(path, split_ratio=0.2, class_size=4000):\n",
    "    data_folder = glob.glob(os.path.join(path, '*.npy'))\n",
    "    x = np.empty([0, 784])   # Because each image is 28 * 28\n",
    "    y = np.empty([0])\n",
    "    class_names = []\n",
    "    for i, file_name in enumerate(data_folder):\n",
    "        data = np.load(file_name)\n",
    "        data = data[0:class_size, :]\n",
    "        labels = np.full(data.shape[0], i)\n",
    "\n",
    "        x = np.concatenate((x, data), axis=0)\n",
    "        y = np.append(y, labels)\n",
    "\n",
    "        class_name, ext = os.path.splitext(os.path.basename(file_name))\n",
    "        class_names.append(class_name)\n",
    "    data = None\n",
    "    labels = None\n",
    "\n",
    "    # Data randomization\n",
    "    perm = np.random.permutation(y.shape[0])\n",
    "    x = x[perm, :]\n",
    "    y = y[perm]\n",
    "\n",
    "    # Split set\n",
    "    split_size = int(x.shape[0]/100*(split_ratio*100))\n",
    "\n",
    "    x_test = x[0:split_size, :]\n",
    "    y_test = y[0:split_size]\n",
    "\n",
    "    x_train = x[split_size:x.shape[0], :]\n",
    "    y_train = y[split_size:y.shape[0]]\n",
    "\n",
    "    return x_train, y_train, x_test, y_test, class_names"
   ]
  },
  {
   "cell_type": "code",
   "execution_count": 37,
   "metadata": {},
   "outputs": [
    {
     "name": "stdout",
     "output_type": "stream",
     "text": [
      "320000\n"
     ]
    }
   ],
   "source": [
    "x_train, y_train, x_test, y_test, class_names = load_data('data')\n",
    "print(len(x_train))"
   ]
  },
  {
   "cell_type": "markdown",
   "metadata": {},
   "source": [
    "## Plot some data"
   ]
  },
  {
   "cell_type": "code",
   "execution_count": 41,
   "metadata": {},
   "outputs": [
    {
     "name": "stdout",
     "output_type": "stream",
     "text": [
      "line\n"
     ]
    },
    {
     "data": {
      "image/png": "[encoded data removed]",
      "text/plain": [
       "<Figure size 432x288 with 1 Axes>"
      ]
     },
     "metadata": {
      "needs_background": "light"
     },
     "output_type": "display_data"
    }
   ],
   "source": [
    "import matplotlib.pyplot as plt\n",
    "%matplotlib inline \n",
    "plt.imshow(x_train[4000].reshape(28, 28))\n",
    "print(class_names[int(y_train[4000].item())])"
   ]
  },
  {
   "cell_type": "markdown",
   "metadata": {},
   "source": [
    "## Data preprocessing"
   ]
  },
  {
   "cell_type": "code",
   "execution_count": 65,
   "metadata": {},
   "outputs": [],
   "source": [
    "from tensorflow.keras import layers\n",
    "from tensorflow import keras\n",
    "import tensorflow as tf"
   ]
  },
  {
   "cell_type": "code",
   "execution_count": 43,
   "metadata": {},
   "outputs": [],
   "source": [
    "IMAGE_SIZE = 28\n",
    "x_train = x_train.reshape(x_train.shape[0], IMAGE_SIZE, IMAGE_SIZE, 1).astype('float32')\n",
    "x_test = x_test.reshape(x_test.shape[0], IMAGE_SIZE, IMAGE_SIZE, 1).astype('float32')\n",
    "\n",
    "# Normalize\n",
    "x_train /= 255.0\n",
    "x_test /= 255.0\n",
    "\n",
    "# One hot encoding\n",
    "y_train = keras.utils.to_categorical(y_train, len(class_names))\n",
    "y_test = keras.utils.to_categorical(y_test, len(class_names))"
   ]
  },
  {
   "cell_type": "markdown",
   "metadata": {},
   "source": [
    "## Define the model"
   ]
  },
  {
   "cell_type": "code",
   "execution_count": 49,
   "metadata": {},
   "outputs": [],
   "source": [
    "def CNN():\n",
    "    model = keras.Sequential()\n",
    "    model.add(layers.Convolution2D(16, (3, 3),\n",
    "                            padding='same',\n",
    "                            input_shape=x_train.shape[1:], activation='relu'))\n",
    "    model.add(layers.MaxPooling2D(pool_size=(2, 2)))\n",
    "    model.add(layers.Convolution2D(32, (3, 3), padding='same', activation= 'relu'))\n",
    "    model.add(layers.MaxPooling2D(pool_size=(2, 2)))\n",
    "    model.add(layers.Convolution2D(64, (3, 3), padding='same', activation= 'relu'))\n",
    "    model.add(layers.MaxPooling2D(pool_size =(2,2)))\n",
    "    model.add(layers.Flatten())\n",
    "    model.add(layers.Dense(128, activation='relu'))\n",
    "    model.add(layers.Dense(100, activation='softmax')) \n",
    "    # Train model\n",
    "    model.compile(loss='categorical_crossentropy',\n",
    "                optimizer='adam',\n",
    "                metrics=['top_k_categorical_accuracy'])  \n",
    "    return model"
   ]
  },
  {
   "cell_type": "code",
   "execution_count": 50,
   "metadata": {},
   "outputs": [
    {
     "name": "stdout",
     "output_type": "stream",
     "text": [
      "Model: \"sequential_2\"\n",
      "_________________________________________________________________\n",
      "Layer (type)                 Output Shape              Param #   \n",
      "=================================================================\n",
      "conv2d_6 (Conv2D)            (None, 28, 28, 16)        160       \n",
      "_________________________________________________________________\n",
      "max_pooling2d_6 (MaxPooling2 (None, 14, 14, 16)        0         \n",
      "_________________________________________________________________\n",
      "conv2d_7 (Conv2D)            (None, 14, 14, 32)        4640      \n",
      "_________________________________________________________________\n",
      "max_pooling2d_7 (MaxPooling2 (None, 7, 7, 32)          0         \n",
      "_________________________________________________________________\n",
      "conv2d_8 (Conv2D)            (None, 7, 7, 64)          18496     \n",
      "_________________________________________________________________\n",
      "max_pooling2d_8 (MaxPooling2 (None, 3, 3, 64)          0         \n",
      "_________________________________________________________________\n",
      "flatten_2 (Flatten)          (None, 576)               0         \n",
      "_________________________________________________________________\n",
      "dense_4 (Dense)              (None, 128)               73856     \n",
      "_________________________________________________________________\n",
      "dense_5 (Dense)              (None, 100)               12900     \n",
      "=================================================================\n",
      "Total params: 110,052\n",
      "Trainable params: 110,052\n",
      "Non-trainable params: 0\n",
      "_________________________________________________________________\n"
     ]
    }
   ],
   "source": [
    "model = CNN()\n",
    "model.summary()"
   ]
  },
  {
   "cell_type": "code",
   "execution_count": 51,
   "metadata": {},
   "outputs": [
    {
     "name": "stdout",
     "output_type": "stream",
     "text": [
      "Train on 288000 samples, validate on 32000 samples\n",
      "Epoch 1/5\n",
      "288000/288000 - 460s - loss: 1.9857 - top_k_categorical_accuracy: 0.7706 - val_loss: 1.4209 - val_top_k_categorical_accuracy: 0.8703\n",
      "Epoch 2/5\n",
      "288000/288000 - 463s - loss: 1.2808 - top_k_categorical_accuracy: 0.8877 - val_loss: 1.2005 - val_top_k_categorical_accuracy: 0.8957\n",
      "Epoch 3/5\n",
      "288000/288000 - 470s - loss: 1.1093 - top_k_categorical_accuracy: 0.9071 - val_loss: 1.0828 - val_top_k_categorical_accuracy: 0.9106\n",
      "Epoch 4/5\n",
      "288000/288000 - 465s - loss: 1.0161 - top_k_categorical_accuracy: 0.9173 - val_loss: 1.0214 - val_top_k_categorical_accuracy: 0.9172\n",
      "Epoch 5/5\n",
      "288000/288000 - 468s - loss: 0.9536 - top_k_categorical_accuracy: 0.9235 - val_loss: 0.9884 - val_top_k_categorical_accuracy: 0.9197\n"
     ]
    }
   ],
   "source": [
    "history = model.fit(x_train, y_train, validation_split=0.1, batch_size=256, verbose=2, epochs=5)"
   ]
  },
  {
   "cell_type": "code",
   "execution_count": 52,
   "metadata": {},
   "outputs": [
    {
     "name": "stdout",
     "output_type": "stream",
     "text": [
      "Accuracy:91.86750054359436\n"
     ]
    }
   ],
   "source": [
    "score = model.evaluate(x_test, y_test, verbose=0)\n",
    "print(f\"Accuracy:{score[1]*100}\")"
   ]
  },
  {
   "cell_type": "code",
   "execution_count": 53,
   "metadata": {},
   "outputs": [
    {
     "name": "stdout",
     "output_type": "stream",
     "text": [
      "['lollipop', 'spoon', 'microphone', 'stop_sign', 'key']\n"
     ]
    },
    {
     "data": {
      "image/png": "[encoded data removed]",
      "text/plain": [
       "<Figure size 432x288 with 1 Axes>"
      ]
     },
     "metadata": {
      "needs_background": "light"
     },
     "output_type": "display_data"
    }
   ],
   "source": [
    "import matplotlib.pyplot as plt \n",
    "from random import randint\n",
    "%matplotlib inline\n",
    "idx = randint(0, len(x_test))\n",
    "img = x_test[idx]\n",
    "plt.imshow(img.squeeze())\n",
    "pred = model.predict(np.expand_dims(img, axis=0))[0]\n",
    "ind = (-pred).argsort()[:5]\n",
    "latex = [class_names[x] for x in ind]\n",
    "print(latex)"
   ]
  },
  {
   "cell_type": "code",
   "execution_count": 54,
   "metadata": {},
   "outputs": [],
   "source": [
    "with open('class_names.txt', 'w') as file_handle:\n",
    "    for i in class_names:\n",
    "        file_handle.write(f\"{i}\\n\")"
   ]
  },
  {
   "cell_type": "code",
   "execution_count": 67,
   "metadata": {},
   "outputs": [
    {
     "name": "stdout",
     "output_type": "stream",
     "text": [
      "Requirement already satisfied: tensorflowjs in /Users/parth/opt/anaconda3/envs/ml/lib/python3.7/site-packages (3.15.0)\n",
      "Requirement already satisfied: tensorflow<3,>=2.1.0 in /Users/parth/opt/anaconda3/envs/ml/lib/python3.7/site-packages (from tensorflowjs) (2.8.0)\n",
      "Requirement already satisfied: tensorflow-hub<0.13,>=0.7.0 in /Users/parth/opt/anaconda3/envs/ml/lib/python3.7/site-packages (from tensorflowjs) (0.12.0)\n",
      "Requirement already satisfied: six<2,>=1.12.0 in /Users/parth/opt/anaconda3/envs/ml/lib/python3.7/site-packages (from tensorflowjs) (1.16.0)\n",
      "Requirement already satisfied: absl-py>=0.4.0 in /Users/parth/opt/anaconda3/envs/ml/lib/python3.7/site-packages (from tensorflow<3,>=2.1.0->tensorflowjs) (0.15.0)\n",
      "Requirement already satisfied: gast>=0.2.1 in /Users/parth/opt/anaconda3/envs/ml/lib/python3.7/site-packages (from tensorflow<3,>=2.1.0->tensorflowjs) (0.2.2)\n",
      "Requirement already satisfied: tf-estimator-nightly==2.8.0.dev2021122109 in /Users/parth/opt/anaconda3/envs/ml/lib/python3.7/site-packages (from tensorflow<3,>=2.1.0->tensorflowjs) (2.8.0.dev2021122109)\n",
      "Requirement already satisfied: astunparse>=1.6.0 in /Users/parth/opt/anaconda3/envs/ml/lib/python3.7/site-packages (from tensorflow<3,>=2.1.0->tensorflowjs) (1.6.3)\n",
      "Requirement already satisfied: protobuf>=3.9.2 in /Users/parth/opt/anaconda3/envs/ml/lib/python3.7/site-packages (from tensorflow<3,>=2.1.0->tensorflowjs) (3.19.1)\n",
      "Requirement already satisfied: tensorflow-io-gcs-filesystem>=0.23.1 in /Users/parth/opt/anaconda3/envs/ml/lib/python3.7/site-packages (from tensorflow<3,>=2.1.0->tensorflowjs) (0.24.0)\n",
      "Requirement already satisfied: opt-einsum>=2.3.2 in /Users/parth/opt/anaconda3/envs/ml/lib/python3.7/site-packages (from tensorflow<3,>=2.1.0->tensorflowjs) (3.3.0)\n",
      "Requirement already satisfied: wrapt>=1.11.0 in /Users/parth/opt/anaconda3/envs/ml/lib/python3.7/site-packages (from tensorflow<3,>=2.1.0->tensorflowjs) (1.13.3)\n",
      "Requirement already satisfied: setuptools in /Users/parth/opt/anaconda3/envs/ml/lib/python3.7/site-packages (from tensorflow<3,>=2.1.0->tensorflowjs) (58.0.4)\n",
      "Requirement already satisfied: flatbuffers>=1.12 in /Users/parth/opt/anaconda3/envs/ml/lib/python3.7/site-packages (from tensorflow<3,>=2.1.0->tensorflowjs) (2.0)\n",
      "Requirement already satisfied: keras-preprocessing>=1.1.1 in /Users/parth/opt/anaconda3/envs/ml/lib/python3.7/site-packages (from tensorflow<3,>=2.1.0->tensorflowjs) (1.1.2)\n",
      "Requirement already satisfied: typing-extensions>=3.6.6 in /Users/parth/opt/anaconda3/envs/ml/lib/python3.7/site-packages (from tensorflow<3,>=2.1.0->tensorflowjs) (4.1.1)\n",
      "Requirement already satisfied: h5py>=2.9.0 in /Users/parth/opt/anaconda3/envs/ml/lib/python3.7/site-packages (from tensorflow<3,>=2.1.0->tensorflowjs) (3.6.0)\n",
      "Requirement already satisfied: keras<2.9,>=2.8.0rc0 in /Users/parth/opt/anaconda3/envs/ml/lib/python3.7/site-packages (from tensorflow<3,>=2.1.0->tensorflowjs) (2.8.0)\n",
      "Requirement already satisfied: termcolor>=1.1.0 in /Users/parth/opt/anaconda3/envs/ml/lib/python3.7/site-packages (from tensorflow<3,>=2.1.0->tensorflowjs) (1.1.0)\n",
      "Requirement already satisfied: grpcio<2.0,>=1.24.3 in /Users/parth/opt/anaconda3/envs/ml/lib/python3.7/site-packages (from tensorflow<3,>=2.1.0->tensorflowjs) (1.42.0)\n",
      "Requirement already satisfied: google-pasta>=0.1.1 in /Users/parth/opt/anaconda3/envs/ml/lib/python3.7/site-packages (from tensorflow<3,>=2.1.0->tensorflowjs) (0.2.0)\n",
      "Requirement already satisfied: tensorboard<2.9,>=2.8 in /Users/parth/opt/anaconda3/envs/ml/lib/python3.7/site-packages (from tensorflow<3,>=2.1.0->tensorflowjs) (2.8.0)\n",
      "Requirement already satisfied: numpy>=1.20 in /Users/parth/opt/anaconda3/envs/ml/lib/python3.7/site-packages (from tensorflow<3,>=2.1.0->tensorflowjs) (1.21.2)\n",
      "Requirement already satisfied: libclang>=9.0.1 in /Users/parth/opt/anaconda3/envs/ml/lib/python3.7/site-packages (from tensorflow<3,>=2.1.0->tensorflowjs) (13.0.0)\n",
      "Requirement already satisfied: wheel<1.0,>=0.23.0 in /Users/parth/opt/anaconda3/envs/ml/lib/python3.7/site-packages (from astunparse>=1.6.0->tensorflow<3,>=2.1.0->tensorflowjs) (0.37.1)\n",
      "Requirement already satisfied: cached-property in /Users/parth/opt/anaconda3/envs/ml/lib/python3.7/site-packages (from h5py>=2.9.0->tensorflow<3,>=2.1.0->tensorflowjs) (1.5.2)\n",
      "Requirement already satisfied: tensorboard-data-server<0.7.0,>=0.6.0 in /Users/parth/opt/anaconda3/envs/ml/lib/python3.7/site-packages (from tensorboard<2.9,>=2.8->tensorflow<3,>=2.1.0->tensorflowjs) (0.6.1)\n",
      "Requirement already satisfied: requests<3,>=2.21.0 in /Users/parth/opt/anaconda3/envs/ml/lib/python3.7/site-packages (from tensorboard<2.9,>=2.8->tensorflow<3,>=2.1.0->tensorflowjs) (2.27.1)\n",
      "Requirement already satisfied: werkzeug>=0.11.15 in /Users/parth/opt/anaconda3/envs/ml/lib/python3.7/site-packages (from tensorboard<2.9,>=2.8->tensorflow<3,>=2.1.0->tensorflowjs) (2.0.3)\n",
      "Requirement already satisfied: tensorboard-plugin-wit>=1.6.0 in /Users/parth/opt/anaconda3/envs/ml/lib/python3.7/site-packages (from tensorboard<2.9,>=2.8->tensorflow<3,>=2.1.0->tensorflowjs) (1.8.1)\n",
      "Requirement already satisfied: markdown>=2.6.8 in /Users/parth/opt/anaconda3/envs/ml/lib/python3.7/site-packages (from tensorboard<2.9,>=2.8->tensorflow<3,>=2.1.0->tensorflowjs) (3.3.4)\n",
      "Requirement already satisfied: google-auth-oauthlib<0.5,>=0.4.1 in /Users/parth/opt/anaconda3/envs/ml/lib/python3.7/site-packages (from tensorboard<2.9,>=2.8->tensorflow<3,>=2.1.0->tensorflowjs) (0.4.6)\n",
      "Requirement already satisfied: google-auth<3,>=1.6.3 in /Users/parth/opt/anaconda3/envs/ml/lib/python3.7/site-packages (from tensorboard<2.9,>=2.8->tensorflow<3,>=2.1.0->tensorflowjs) (2.6.2)\n",
      "Requirement already satisfied: cachetools<6.0,>=2.0.0 in /Users/parth/opt/anaconda3/envs/ml/lib/python3.7/site-packages (from google-auth<3,>=1.6.3->tensorboard<2.9,>=2.8->tensorflow<3,>=2.1.0->tensorflowjs) (5.0.0)\n",
      "Requirement already satisfied: rsa<5,>=3.1.4 in /Users/parth/opt/anaconda3/envs/ml/lib/python3.7/site-packages (from google-auth<3,>=1.6.3->tensorboard<2.9,>=2.8->tensorflow<3,>=2.1.0->tensorflowjs) (4.8)\n",
      "Requirement already satisfied: pyasn1-modules>=0.2.1 in /Users/parth/opt/anaconda3/envs/ml/lib/python3.7/site-packages (from google-auth<3,>=1.6.3->tensorboard<2.9,>=2.8->tensorflow<3,>=2.1.0->tensorflowjs) (0.2.8)\n",
      "Requirement already satisfied: requests-oauthlib>=0.7.0 in /Users/parth/opt/anaconda3/envs/ml/lib/python3.7/site-packages (from google-auth-oauthlib<0.5,>=0.4.1->tensorboard<2.9,>=2.8->tensorflow<3,>=2.1.0->tensorflowjs) (1.3.1)\n",
      "Requirement already satisfied: importlib-metadata in /Users/parth/opt/anaconda3/envs/ml/lib/python3.7/site-packages (from markdown>=2.6.8->tensorboard<2.9,>=2.8->tensorflow<3,>=2.1.0->tensorflowjs) (4.11.3)\n",
      "Requirement already satisfied: pyasn1<0.5.0,>=0.4.6 in /Users/parth/opt/anaconda3/envs/ml/lib/python3.7/site-packages (from pyasn1-modules>=0.2.1->google-auth<3,>=1.6.3->tensorboard<2.9,>=2.8->tensorflow<3,>=2.1.0->tensorflowjs) (0.4.8)\n",
      "Requirement already satisfied: idna<4,>=2.5 in /Users/parth/opt/anaconda3/envs/ml/lib/python3.7/site-packages (from requests<3,>=2.21.0->tensorboard<2.9,>=2.8->tensorflow<3,>=2.1.0->tensorflowjs) (3.3)\n",
      "Requirement already satisfied: certifi>=2017.4.17 in /Users/parth/opt/anaconda3/envs/ml/lib/python3.7/site-packages (from requests<3,>=2.21.0->tensorboard<2.9,>=2.8->tensorflow<3,>=2.1.0->tensorflowjs) (2021.10.8)\n",
      "Requirement already satisfied: urllib3<1.27,>=1.21.1 in /Users/parth/opt/anaconda3/envs/ml/lib/python3.7/site-packages (from requests<3,>=2.21.0->tensorboard<2.9,>=2.8->tensorflow<3,>=2.1.0->tensorflowjs) (1.26.9)\n",
      "Requirement already satisfied: charset-normalizer~=2.0.0 in /Users/parth/opt/anaconda3/envs/ml/lib/python3.7/site-packages (from requests<3,>=2.21.0->tensorboard<2.9,>=2.8->tensorflow<3,>=2.1.0->tensorflowjs) (2.0.12)\n",
      "Requirement already satisfied: oauthlib>=3.0.0 in /Users/parth/opt/anaconda3/envs/ml/lib/python3.7/site-packages (from requests-oauthlib>=0.7.0->google-auth-oauthlib<0.5,>=0.4.1->tensorboard<2.9,>=2.8->tensorflow<3,>=2.1.0->tensorflowjs) (3.2.0)\n",
      "Requirement already satisfied: zipp>=0.5 in /Users/parth/opt/anaconda3/envs/ml/lib/python3.7/site-packages (from importlib-metadata->markdown>=2.6.8->tensorboard<2.9,>=2.8->tensorflow<3,>=2.1.0->tensorflowjs) (3.7.0)\n",
      "Note: you may need to restart the kernel to use updated packages.\n"
     ]
    }
   ],
   "source": [
    "%pip install tensorflowjs"
   ]
  },
  {
   "cell_type": "markdown",
   "metadata": {},
   "source": [
    "## Save the model"
   ]
  },
  {
   "cell_type": "code",
   "execution_count": 69,
   "metadata": {},
   "outputs": [
    {
     "name": "stdout",
     "output_type": "stream",
     "text": [
      "mkdir: model: File exists\n"
     ]
    }
   ],
   "source": [
    "model.save(\"model.h5\")\n",
    "!mkdir model\n",
    "!tensorflowjs_converter --input_format keras model.h5 model/"
   ]
  }
 ],
 "metadata": {
  "interpreter": {
   "hash": "a48f42d6b2cc564c84f407a5f0014b33de5d29db06b959bd1beac822a38c3b71"
  },
  "kernelspec": {
   "display_name": "Python 3.7.11 ('ml')",
   "language": "python",
   "name": "python3"
  },
  "language_info": {
   "codemirror_mode": {
    "name": "ipython",
    "version": 3
   },
   "file_extension": ".py",
   "mimetype": "text/x-python",
   "name": "python",
   "nbconvert_exporter": "python",
   "pygments_lexer": "ipython3",
   "version": "3.7.11"
  },
  "orig_nbformat": 4
 },
 "nbformat": 4,
 "nbformat_minor": 2
}
